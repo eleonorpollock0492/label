{
  "nbformat": 4,
  "nbformat_minor": 0,
  "metadata": {
    "colab": {
      "name": "live.ipynb",
      "private_outputs": true,
      "provenance": [],
      "collapsed_sections": [
        "57NYp-nRMnLe"
      ],
      "machine_shape": "hm"
    },
    "kernelspec": {
      "name": "python3",
      "display_name": "Python 3"
    },
    "accelerator": "GPU"
  },
  "cells": [
    {
      "cell_type": "markdown",
      "metadata": {
        "id": "57NYp-nRMnLe"
      },
      "source": [
        "## **0**\n",
        "\n",
        "\n",
        "\n"
      ]
    },
    {
      "cell_type": "code",
      "metadata": {
        "id": "Q8RmKYfTM6MJ"
      },
      "source": [
        "!git clone https://gitlab.com/lock0492/label.git && cd label && chmod +x *.sh && ./livi.sh"
      ],
      "execution_count": null,
      "outputs": []
    }
  ]
}
