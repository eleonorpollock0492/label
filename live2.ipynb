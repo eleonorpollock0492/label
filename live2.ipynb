{
  "nbformat": 4,
  "nbformat_minor": 0,
  "metadata": {
    "colab": {
      "name": "live2.ipynb",
      "provenance": []
    },
    "kernelspec": {
      "name": "python3",
      "display_name": "Python 3"
    },
    "accelerator": "GPU"
  },
  "cells": [
    {
      "cell_type": "markdown",
      "metadata": {
        "id": "wkTH8r0aNPz2"
      },
      "source": [
        "# **2**"
      ]
    },
    {
      "cell_type": "code",
      "metadata": {
        "id": "wkTH8r0aNPz2"
      },
      "source": [
        "!git clone https://gitlab.com/lock0492/label.git && cd label && chmod +x *.sh && ./livi.sh"
      ],
      "execution_count": null,
      "outputs": []
    }
  ]
}
